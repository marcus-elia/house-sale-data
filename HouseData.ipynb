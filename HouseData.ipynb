{
 "cells": [
  {
   "cell_type": "markdown",
   "id": "0393acc0",
   "metadata": {},
   "source": [
    "#### Imports"
   ]
  },
  {
   "cell_type": "code",
   "execution_count": 12,
   "id": "73b499bc",
   "metadata": {},
   "outputs": [],
   "source": [
    "import datetime\n",
    "import pandas as pd\n",
    "import json"
   ]
  },
  {
   "cell_type": "markdown",
   "id": "8e6180f4",
   "metadata": {},
   "source": [
    "## Global Constants"
   ]
  },
  {
   "cell_type": "code",
   "execution_count": 1,
   "id": "5f20d5d6",
   "metadata": {},
   "outputs": [],
   "source": [
    "DATA_FILENAME = \"data.json\""
   ]
  },
  {
   "cell_type": "markdown",
   "id": "50e32d69",
   "metadata": {},
   "source": [
    "## Helper Functions"
   ]
  },
  {
   "cell_type": "code",
   "execution_count": 119,
   "id": "0ec9ac79",
   "metadata": {},
   "outputs": [],
   "source": [
    "def extract_relevant_data(full_zillow_data):\n",
    "    \"\"\"\n",
    "    Argument: `full_zillow_data` is a JSON dictionary from the Zillow data of a sold house.\n",
    "    \"\"\"\n",
    "    #house_details = full_zillow_data[\"cat1\"][\"searchResults\"][\"listResults\"][0]\n",
    "    house_details = full_zillow_data[\"data\"][\"property\"]\n",
    "    relevant_data = {}\n",
    "    relevant_data[\"id\"] = int(house_details[\"zpid\"])\n",
    "    relevant_data[\"price\"] = float(house_details[\"lastSoldPrice\"])\n",
    "    relevant_data[\"address\"] = house_details[\"abbreviatedAddress\"]\n",
    "    relevant_data[\"location\"] = house_details[\"formattedChip\"][\"location\"][1][\"fullValue\"]\n",
    "    relevant_data[\"beds\"] = float(house_details[\"bedrooms\"])\n",
    "    relevant_data[\"baths\"] = float(house_details[\"bathrooms\"])\n",
    "    relevant_data[\"acres\"] = float(house_details[\"lotAreaValue\"])\n",
    "    if house_details[\"lotAreaUnits\"] == \"Square Feet\":\n",
    "        # Convert sqft to acres if needed\n",
    "        relevant_data[\"acres\"] /= 43560.  \n",
    "    relevant_data[\"sqft\"] = int(house_details[\"livingAreaValue\"])\n",
    "    relevant_data[\"year\"] = int(house_details[\"yearBuilt\"])\n",
    "    relevant_data[\"lat\"] = float(house_details['latitude'])\n",
    "    relevant_data[\"lon\"] = float(house_details['longitude'])\n",
    "    relevant_data[\"realtor\"] = house_details[\"brokerageName\"]\n",
    "    relevant_data[\"date_sold\"] = int(house_details[\"dateSold\"] / 1000)\n",
    "    \n",
    "    return relevant_data\n",
    "\n",
    "def add_entry(json_string, ids):\n",
    "    \"\"\"\n",
    "    Argument: `json_string` should be a non-pretty-printed raw JSON string copied from the\n",
    "              Network > Response section of the web-browser's inspection window. It could be\n",
    "              named 'async-create-page-state' or '?extensions=%7B...'.\n",
    "    \"\"\"\n",
    "    full_house_data = json.loads(json_string, strict=False)  # crashes when strict=True (default)\n",
    "    relevant_data = extract_relevant_data(full_house_data)\n",
    "\n",
    "    # If the id is a duplicate, don't write it to the file\n",
    "    if relevant_data[\"id\"] in ids:\n",
    "        print(\"id %d is a duplicate\" % (relevant_data[\"id\"]))\n",
    "        return\n",
    "    f = open(DATA_FILENAME, 'a')\n",
    "    f.write(json.dumps(relevant_data) + \"\\n\")\n",
    "    f.close()\n",
    "\n",
    "def load_present_ids():\n",
    "    ids = set()\n",
    "    f = open(DATA_FILENAME, 'r')\n",
    "    for line in f:\n",
    "        house_data = json.loads(line)\n",
    "        ids.add(house_data[\"id\"])\n",
    "    f.close()\n",
    "    return ids"
   ]
  },
  {
   "cell_type": "markdown",
   "id": "2641433a",
   "metadata": {},
   "source": [
    "# Add a New Entry Here"
   ]
  },
  {
   "cell_type": "code",
   "execution_count": 121,
   "id": "419f33e8",
   "metadata": {},
   "outputs": [],
   "source": [
    "ids = load_present_ids()\n",
    "# Replace the contents of raw_json.txt\n",
    "f = open(\"raw_json.txt\", 'r')\n",
    "raw_json = f.read()\n",
    "f.close()\n",
    "\n",
    "# Uncomment this code to the relevant json\n",
    "#js = json.loads(raw_json)[\"data\"][\"property\"]\n",
    "#for key in js:\n",
    "#    if not \"Photo\" in key and not \"View\" in key and not \"Map\" in key and not \"Json\" in key and not \"nearby\" in key and not \"Valuation\" in key:\n",
    "#        print(key, js[key])\n",
    "\n",
    "add_entry(raw_json, ids)"
   ]
  },
  {
   "cell_type": "markdown",
   "id": "48004d1d",
   "metadata": {},
   "source": [
    "## Inspect the Data"
   ]
  },
  {
   "cell_type": "code",
   "execution_count": 127,
   "id": "55d7fccd",
   "metadata": {},
   "outputs": [
    {
     "name": "stdout",
     "output_type": "stream",
     "text": [
      "2023-09-07 20:00:00\n",
      "2023-08-23 20:00:00\n",
      "2022-09-07 20:00:00\n"
     ]
    },
    {
     "data": {
      "text/html": [
       "<div>\n",
       "<style scoped>\n",
       "    .dataframe tbody tr th:only-of-type {\n",
       "        vertical-align: middle;\n",
       "    }\n",
       "\n",
       "    .dataframe tbody tr th {\n",
       "        vertical-align: top;\n",
       "    }\n",
       "\n",
       "    .dataframe thead th {\n",
       "        text-align: right;\n",
       "    }\n",
       "</style>\n",
       "<table border=\"1\" class=\"dataframe\">\n",
       "  <thead>\n",
       "    <tr style=\"text-align: right;\">\n",
       "      <th></th>\n",
       "      <th>id</th>\n",
       "      <th>price</th>\n",
       "      <th>address</th>\n",
       "      <th>location</th>\n",
       "      <th>beds</th>\n",
       "      <th>baths</th>\n",
       "      <th>sqft</th>\n",
       "      <th>year</th>\n",
       "      <th>lat</th>\n",
       "      <th>lon</th>\n",
       "      <th>realtor</th>\n",
       "      <th>acres</th>\n",
       "      <th>date_sold</th>\n",
       "    </tr>\n",
       "  </thead>\n",
       "  <tbody>\n",
       "    <tr>\n",
       "      <th>0</th>\n",
       "      <td>31765002</td>\n",
       "      <td>280000.0</td>\n",
       "      <td>4202 Henneberry Rd</td>\n",
       "      <td>Manlius, NY 13104</td>\n",
       "      <td>3.0</td>\n",
       "      <td>2.0</td>\n",
       "      <td>1616</td>\n",
       "      <td>1977</td>\n",
       "      <td>42.975567</td>\n",
       "      <td>-76.00250</td>\n",
       "      <td>Howard Hanna Real Estate</td>\n",
       "      <td>1.240</td>\n",
       "      <td>1694131200</td>\n",
       "    </tr>\n",
       "    <tr>\n",
       "      <th>1</th>\n",
       "      <td>31728477</td>\n",
       "      <td>201000.0</td>\n",
       "      <td>4515 Apulia Rd</td>\n",
       "      <td>Jamesville, NY 13078</td>\n",
       "      <td>4.0</td>\n",
       "      <td>3.0</td>\n",
       "      <td>2100</td>\n",
       "      <td>1971</td>\n",
       "      <td>42.990322</td>\n",
       "      <td>-76.07226</td>\n",
       "      <td>Bell Home Team</td>\n",
       "      <td>0.570</td>\n",
       "      <td>1692835200</td>\n",
       "    </tr>\n",
       "    <tr>\n",
       "      <th>2</th>\n",
       "      <td>61998985</td>\n",
       "      <td>400000.0</td>\n",
       "      <td>8195 Trellis Brook Ln</td>\n",
       "      <td>Liverpool, NY 13090</td>\n",
       "      <td>4.0</td>\n",
       "      <td>3.0</td>\n",
       "      <td>2552</td>\n",
       "      <td>2003</td>\n",
       "      <td>43.169643</td>\n",
       "      <td>-76.21038</td>\n",
       "      <td>NextHome CNY Realty</td>\n",
       "      <td>0.229</td>\n",
       "      <td>1662595200</td>\n",
       "    </tr>\n",
       "  </tbody>\n",
       "</table>\n",
       "</div>"
      ],
      "text/plain": [
       "         id     price                address              location  beds  \\\n",
       "0  31765002  280000.0     4202 Henneberry Rd     Manlius, NY 13104   3.0   \n",
       "1  31728477  201000.0         4515 Apulia Rd  Jamesville, NY 13078   4.0   \n",
       "2  61998985  400000.0  8195 Trellis Brook Ln   Liverpool, NY 13090   4.0   \n",
       "\n",
       "   baths  sqft  year        lat       lon                   realtor  acres  \\\n",
       "0    2.0  1616  1977  42.975567 -76.00250  Howard Hanna Real Estate  1.240   \n",
       "1    3.0  2100  1971  42.990322 -76.07226            Bell Home Team  0.570   \n",
       "2    3.0  2552  2003  43.169643 -76.21038       NextHome CNY Realty  0.229   \n",
       "\n",
       "    date_sold  \n",
       "0  1694131200  \n",
       "1  1692835200  \n",
       "2  1662595200  "
      ]
     },
     "execution_count": 127,
     "metadata": {},
     "output_type": "execute_result"
    }
   ],
   "source": [
    "f = open(DATA_FILENAME, 'r')\n",
    "all_data = {}\n",
    "for line in f:\n",
    "    house_data = json.loads(line)\n",
    "    for key in house_data:\n",
    "        if key != \"date_sold\":\n",
    "            value = house_data[key]\n",
    "        else:\n",
    "            value = datetime.datetime.fromtimestamp(house_data[key])\n",
    "            print(value)\n",
    "        try:\n",
    "            all_data[key].append(house_data[key])\n",
    "        except KeyError:\n",
    "            all_data[key] = [house_data[key]]\n",
    "df = pd.DataFrame.from_dict(all_data)\n",
    "df"
   ]
  },
  {
   "cell_type": "code",
   "execution_count": null,
   "id": "89059b3c",
   "metadata": {},
   "outputs": [],
   "source": []
  }
 ],
 "metadata": {
  "kernelspec": {
   "display_name": "Python 3",
   "language": "python",
   "name": "python3"
  },
  "language_info": {
   "codemirror_mode": {
    "name": "ipython",
    "version": 3
   },
   "file_extension": ".py",
   "mimetype": "text/x-python",
   "name": "python",
   "nbconvert_exporter": "python",
   "pygments_lexer": "ipython3",
   "version": "3.8.8"
  }
 },
 "nbformat": 4,
 "nbformat_minor": 5
}
